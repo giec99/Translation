{
 "cells": [
  {
   "cell_type": "markdown",
   "metadata": {},
   "source": [
    "# TP 6 : Analog filter"
   ]
  },
  {
   "cell_type": "code",
   "execution_count": 2,
   "metadata": {},
   "outputs": [],
   "source": [
    "from pylab import *\n",
    "from scipy import ndimage as ndi\n",
    "from scipy import signal\n",
    "from numpy.fft import fft, ifft, fft2, ifft2\n",
    "from scipy.ndimage import convolve as convolvend\n",
    "# pour les représentations 3D\n",
    "from mpl_toolkits.mplot3d.axes3d import Axes3D\n",
    "from math import *\n",
    "import cmath"
   ]
  },
  {
   "cell_type": "markdown",
   "metadata": {},
   "source": [
    "## Part 1 : First-order analog filter"
   ]
  },
  {
   "cell_type": "markdown",
   "metadata": {},
   "source": [
    "The following RC analog circuit is considered. The input signal $V_{e}(t)$, applied across the circuit is of the form $V_{e}(t) = exp(pt)$ où $p$ where $p$ is a complex constant.\n",
    "\n",
    "![title](img/tp3img1.png)\n",
    "\n",
    "**1/** What is the expression of the output signal $V_{s}(t)$ across the capacitor?"
   ]
  },
  {
   "cell_type": "markdown",
   "metadata": {},
   "source": []
  },
  {
   "cell_type": "markdown",
   "metadata": {},
   "source": [
    "$p = \\sigma + j \\omega $ \n",
    "\n",
    "**2/** Express the $H(p)$ transfer function of the system. What is the frequency response $H(j\\omega)$ (complex gain)"
   ]
  },
  {
   "cell_type": "markdown",
   "metadata": {},
   "source": []
  },
  {
   "cell_type": "markdown",
   "metadata": {},
   "source": [
    "We choose $R = 1 k \\Omega$ and $C = 1 \\mu F$\n",
    "\n",
    "**3/** Program a complex vector representing the frequency response. \n",
    "\n",
    "Represent one below the other the module and the phase of the gain with the pulse (or frequency). It is advisable to normalize the pulse by the cutoff pulse on the x-axis.\n",
    "\n",
    "*Calculate the module with the equation (question 2), then check with the functions of the cmath library*.\n",
    "\n",
    "Comment on the results. "
   ]
  },
  {
   "cell_type": "code",
   "execution_count": 3,
   "metadata": {},
   "outputs": [],
   "source": [
    "R = 1000   # ohm \n",
    "C = 1e-6   #  F\n",
    "fc = 1.0/(2*np.pi*R*C)\n",
    "wc = 2* np.pi * fc\n"
   ]
  },
  {
   "cell_type": "markdown",
   "metadata": {},
   "source": [
    "**4/** Represent the gain in decibel with the normalized pulse.\n",
    "\n",
    "Find on the graph the pulsation (or frequency) at -3 dB. It can also be determined numerically using the function```where``` of ```numpy```. "
   ]
  },
  {
   "cell_type": "code",
   "execution_count": null,
   "metadata": {},
   "outputs": [],
   "source": [
    "\n"
   ]
  },
  {
   "cell_type": "markdown",
   "metadata": {},
   "source": [
    "**6/** In the Bode representation, gain and phase are represented as\n",
    "function of a normalized logarithmic scale pulse.\n",
    "Perform a Bode representation of gain and phase. Use the *semilogx* function instead of the *plot* function. \n",
    "Determine the cutoff pulse graphically in this diagram."
   ]
  },
  {
   "cell_type": "code",
   "execution_count": null,
   "metadata": {},
   "outputs": [],
   "source": []
  },
  {
   "cell_type": "markdown",
   "metadata": {},
   "source": [
    "\n",
    "By discretization, the output signal can be calculated digitally. The recurrence relation is written: \n",
    "\n",
    "$y_i = \\alpha x_i + (1 - \\alpha) y_{i-1}$\n",
    "\n",
    "where $y$ is the out-put signal, $x$ is the input signal and $\\alpha = \\frac{\\Delta_{T}}{RC+\\Delta_{T}}$\n",
    "\n",
    "\n",
    "**8/** It is assumed that the filter input signal is the causal signal $V_{e}(t) = cos(2\\pi f_{0}t) U(t)$ with $U(t)$ being the step function (```heaviside```).\n",
    "\n",
    "Plot the input signal $V_{e}(t)$ and the output signal  $V_{s}(t)$ with $f_{0} = 500 Hz$, $\\Delta_T = 1 \\mu s$. epresent it on 10000 points. What are you observing?"
   ]
  },
  {
   "cell_type": "code",
   "execution_count": null,
   "metadata": {},
   "outputs": [],
   "source": []
  },
  {
   "cell_type": "markdown",
   "metadata": {},
   "source": [
    "# Part 2"
   ]
  },
  {
   "cell_type": "code",
   "execution_count": 4,
   "metadata": {},
   "outputs": [],
   "source": [
    "import numpy as np\n",
    "import scipy.signal as sig\n",
    "import matplotlib.pyplot as plt"
   ]
  },
  {
   "cell_type": "markdown",
   "metadata": {},
   "source": [
    "In electronics, we want to make filters with a particular model. This model is specified via several parameters characterizing the filter module $|H(jω)|$ :\n",
    "\n",
    "- Type of filter: low-pass, high-pass, band-pass, etc.\n",
    " \n",
    "- fc(Hz): cutoff frequency  of the filter defining the pass band.\n",
    "\n",
    "- Tc(dB): the minimum gain in pass band.\n",
    "\n",
    "- fs (Hz): the first rejected frequency defining the beginning of the attenuated band (stop band)\n",
    "\n",
    "- Ts(dB): the maximum gain in the stop band.\n",
    "\n",
    "Concerning the phase, we ideally want it to be linear in the bandwidth (constant group delay). The problem of synthesis of a filter then consists in determining the order N as well as the coefficients $a_k$ and $b_k$ of the transfer function in order to comply with the filter model. In the following parts, we will present several widely used filter structures.\n",
    "\n",
    "To illustrate the characteristics of these structures, we will use them to synthesize a low-pass filter of order N=3 with the following parameters:"
   ]
  },
  {
   "cell_type": "code",
   "execution_count": 5,
   "metadata": {},
   "outputs": [],
   "source": [
    "N = 3          # ordre\n",
    "fc = 100       # fréquence de coupure\n",
    "wc = 2*np.pi*fc   #pulsation de coupure\n",
    "Tc = 3         # Gain minimum dans la bande passante en dB\n",
    "Ts = 40        # Gain maximum dans la bande attenuée en dB\n",
    "\n",
    "# Base des pulsations et des fréquences pour l'analyse frequentielle\n",
    "w = np.logspace(1,4,num=100)\n",
    "f = w/(2*np.pi)"
   ]
  },
  {
   "cell_type": "markdown",
   "metadata": {},
   "source": [
    "# Exercise 1: Butterworth Filter"
   ]
  },
  {
   "cell_type": "markdown",
   "metadata": {},
   "source": [
    "A low-pass Butterworth filter is defined by the square modulus of its frequency response. \n",
    "\n",
    "$A(w) = H(w)H*(w) = \\frac{1}{1+(\\frac{w}{w_c})^{2n}}$ \n",
    "\n",
    "with n an integer that defines the order of the filter. A cut-off frequency $fc = 100$ is taken and $n = 3$."
   ]
  },
  {
   "cell_type": "markdown",
   "metadata": {},
   "source": [
    "**1/** Deduct from $A(w)$, the module of the Butterworth filter and represent it as a function of frequency in log-log scale. Plot the cutoff frequency with a vertical line, and the equivalent modulus with a horizontal line. What is the value of the modulus in decibels that corresponds to the cutoff pulse? \n"
   ]
  },
  {
   "cell_type": "code",
   "execution_count": null,
   "metadata": {},
   "outputs": [],
   "source": []
  },
  {
   "cell_type": "markdown",
   "metadata": {},
   "source": [
    "The Butterworth filter has the property of having a module that is as flat as possible in the bandwidth (maximally flat). In addition, the module has the property of being monotonous (without ripple) in both the pass band and the attenuated band."
   ]
  },
  {
   "cell_type": "markdown",
   "metadata": {},
   "source": [
    "**2/** Represent the filter module this time with the library functions```signal```. \n",
    "\n",
    "- ```butter(N, Wn, btype='low', analog=False, output='ba', fs=None)``` : design a digital or analog Nth-order Butterworth filter and return the filter coefficients.\n",
    "\n",
    "- ```lti(*system)``` : from the filter coefficients, returns the ```Objet``` of the filter transfer function. \n",
    "\n",
    "- ```freqresp``` : calculates the frequency response of a continuous-time system. This function returns: w the frequency vector [rad/s], and h complex vector\n",
    "\n",
    "\n"
   ]
  },
  {
   "cell_type": "code",
   "execution_count": null,
   "metadata": {},
   "outputs": [],
   "source": [
    "\n"
   ]
  },
  {
   "cell_type": "markdown",
   "metadata": {},
   "source": [
    "**3/** Represent the poles and zeros of the filter.  "
   ]
  },
  {
   "cell_type": "code",
   "execution_count": null,
   "metadata": {
    "scrolled": true
   },
   "outputs": [],
   "source": []
  },
  {
   "cell_type": "markdown",
   "metadata": {},
   "source": [
    "# Exercise 2: Chebyshev Filters"
   ]
  },
  {
   "cell_type": "markdown",
   "metadata": {},
   "source": [
    "The modulus of a Chebyshev filter is expressed in the form:\n",
    "\n",
    "$|H(w)| = \\frac{1}{\\sqrt{1+\\epsilon^{2}T_{N}^{2}(\\frac{\\omega}{\\omega_c})}}$ \n",
    "\n",
    "where $\\omega_c =2\\pi f_c$ designates the cut-off pulse, $\\epsilon$ is a filter parameter related to the minimum gain in the passband $Tc$ ($Tc=−10log_{10}(1+\\epsilon^{2})$), and $T_N(x)$ corresponds to the Chebyshev polynomial of order $N$ defined by:\n",
    "\n",
    "$V_N(x) = cos(Ncos^{-1}(x))$\n",
    "\n",
    "The Chebyshev filter has the property of having a ripple module in the pass band and being monotonous in the attenuated band. By allowing a ripple in the pass band, the Chebyshev filter provides better performance in the attenuated band than the Butterworth filter. In particular, for the same cutoff frequency and minimum gain in the passband, the Chebyshev filter attenuates the signal more strongly in the rejected band.\n"
   ]
  },
  {
   "cell_type": "markdown",
   "metadata": {},
   "source": [
    "**1/** Show the Chebushev filter module with library functions ```signal```. \n",
    "\n",
    "- ```cheby1(N, Wn, btype='low', analog=False, output='ba', fs=None)``` \n",
    "\n",
    "- ```lti(*system)``` \n",
    "\n",
    "- ```freqresp``` "
   ]
  },
  {
   "cell_type": "code",
   "execution_count": null,
   "metadata": {},
   "outputs": [],
   "source": []
  },
  {
   "cell_type": "markdown",
   "metadata": {},
   "source": [
    "**2/ Filter poles** \n",
    "\n",
    "Write the equation to find the poles of the filter. \n",
    "\n",
    "\n",
    "These poles belong to an ellipse centered at the origin and having minor and major axes of respective length :  \n",
    "\n",
    "$ a = \\omega_c (\\alpha^{1/N} - \\alpha^{-1/N}) $\n",
    "\n",
    "$ b = \\omega_c (\\alpha^{1/N} + \\alpha^{-1/N}) $\n",
    "\n",
    "where $\\alpha = \\epsilon^{-1} + \\sqrt{1+ \\epsilon^{-2}}$\n",
    "\n",
    "Draw the poles and zeros of the filter as well as the elipse. "
   ]
  },
  {
   "cell_type": "code",
   "execution_count": null,
   "metadata": {},
   "outputs": [],
   "source": []
  }
 ],
 "metadata": {
  "kernelspec": {
   "display_name": "Python 3",
   "language": "python",
   "name": "python3"
  },
  "language_info": {
   "codemirror_mode": {
    "name": "ipython",
    "version": 3
   },
   "file_extension": ".py",
   "mimetype": "text/x-python",
   "name": "python",
   "nbconvert_exporter": "python",
   "pygments_lexer": "ipython3",
   "version": "3.7.4"
  }
 },
 "nbformat": 4,
 "nbformat_minor": 2
}
